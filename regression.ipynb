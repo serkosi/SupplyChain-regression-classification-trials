{
 "cells": [
  {
   "cell_type": "markdown",
   "metadata": {},
   "source": [
    "## Regression Implementation (Predicting TotalPrice)"
   ]
  },
  {
   "cell_type": "markdown",
   "metadata": {},
   "source": [
    "✅ YearMonth is used as a numerical trend indicator (not one-hot encoded)\n",
    "\n",
    "✅ Country_Encoded is used as a numeric label, since Random Forest handles categorical variables.\n",
    "\n",
    "✅ No one-hot encoding is applied here because regression with Random Forest can handle numerical categorical variables well."
   ]
  },
  {
   "cell_type": "markdown",
   "metadata": {},
   "source": [
    "### Step 1: Prepare Data for Regression"
   ]
  },
  {
   "cell_type": "code",
   "execution_count": null,
   "metadata": {},
   "outputs": [],
   "source": [
    "import pandas as pd\n",
    "import numpy as np\n",
    "from sklearn.model_selection import train_test_split\n",
    "from sklearn.ensemble import RandomForestRegressor\n",
    "from sklearn.metrics import mean_squared_error\n",
    "from sklearn.preprocessing import LabelEncoder\n",
    "\n",
    "# Load dataset\n",
    "url = \"https://archive.ics.uci.edu/ml/machine-learning-databases/00352/Online%20Retail.xlsx\"\n",
    "df = pd.read_excel(url, sheet_name=\"Online Retail\")"
   ]
  },
  {
   "cell_type": "code",
   "execution_count": 4,
   "metadata": {},
   "outputs": [],
   "source": [
    "# Data Cleaning\n",
    "df = df.dropna(subset=[\"CustomerID\"])\n",
    "df[\"TotalPrice\"] = df[\"Quantity\"] * df[\"UnitPrice\"]\n",
    "df = df[df[\"Quantity\"] > 0]\n",
    "df[\"InvoiceDate\"] = pd.to_datetime(df[\"InvoiceDate\"])\n",
    "df[\"YearMonth\"] = df[\"InvoiceDate\"].dt.year * 100 + df[\"InvoiceDate\"].dt.month  # YYYYMM format\n"
   ]
  },
  {
   "cell_type": "code",
   "execution_count": 5,
   "metadata": {},
   "outputs": [],
   "source": [
    "# Encode Country\n",
    "encoder = LabelEncoder()\n",
    "df[\"Country_Encoded\"] = encoder.fit_transform(df[\"Country\"])"
   ]
  },
  {
   "cell_type": "code",
   "execution_count": 6,
   "metadata": {},
   "outputs": [],
   "source": [
    "# Define Features & Target\n",
    "X_reg = df[[\"Quantity\", \"UnitPrice\", \"Country_Encoded\", \"YearMonth\"]]\n",
    "y_reg = df[\"TotalPrice\"]\n",
    "\n",
    "# Train-Test Split\n",
    "X_train_reg, X_test_reg, y_train_reg, y_test_reg = train_test_split(X_reg, y_reg, test_size=0.2, random_state=42)"
   ]
  },
  {
   "cell_type": "markdown",
   "metadata": {},
   "source": [
    "### Step 2: Train Random Forest Regressor"
   ]
  },
  {
   "cell_type": "code",
   "execution_count": 7,
   "metadata": {},
   "outputs": [
    {
     "name": "stdout",
     "output_type": "stream",
     "text": [
      "Random Forest Regression RMSE: 6.43\n"
     ]
    }
   ],
   "source": [
    "# Train Random Forest\n",
    "rf_reg = RandomForestRegressor(n_estimators=100, random_state=42)\n",
    "rf_reg.fit(X_train_reg, y_train_reg)\n",
    "\n",
    "# Predict & Evaluate\n",
    "y_pred_reg = rf_reg.predict(X_test_reg)\n",
    "rmse = np.sqrt(mean_squared_error(y_test_reg, y_pred_reg))\n",
    "print(f\"Random Forest Regression RMSE: {rmse:.2f}\")\n"
   ]
  },
  {
   "cell_type": "markdown",
   "metadata": {},
   "source": [
    "### Step 3: Feature Importance (Regression)"
   ]
  },
  {
   "cell_type": "code",
   "execution_count": 8,
   "metadata": {},
   "outputs": [
    {
     "name": "stderr",
     "output_type": "stream",
     "text": [
      "C:\\Users\\serko\\AppData\\Local\\Temp\\ipykernel_21940\\667592065.py:12: FutureWarning: \n",
      "\n",
      "Passing `palette` without assigning `hue` is deprecated and will be removed in v0.14.0. Assign the `y` variable to `hue` and set `legend=False` for the same effect.\n",
      "\n",
      "  sns.barplot(x=\"Importance\", y=\"Feature\", data=feature_importance_reg, palette=\"Blues_r\")\n"
     ]
    },
    {
     "data": {
      "image/png": "[encoded data removed]",
      "text/plain": [
       "<Figure size 800x500 with 1 Axes>"
      ]
     },
     "metadata": {},
     "output_type": "display_data"
    }
   ],
   "source": [
    "import matplotlib.pyplot as plt\n",
    "import seaborn as sns\n",
    "\n",
    "# Feature Importance\n",
    "feature_importance_reg = pd.DataFrame({\n",
    "    \"Feature\": X_reg.columns,\n",
    "    \"Importance\": rf_reg.feature_importances_\n",
    "}).sort_values(by=\"Importance\", ascending=False)\n",
    "\n",
    "# Plot\n",
    "plt.figure(figsize=(8, 5))\n",
    "sns.barplot(x=\"Importance\", y=\"Feature\", data=feature_importance_reg, palette=\"Blues_r\")\n",
    "plt.title(\"Feature Importance (Random Forest Regression)\")\n",
    "plt.show()\n"
   ]
  }
 ],
 "metadata": {
  "kernelspec": {
   "display_name": ".venv",
   "language": "python",
   "name": "python3"
  },
  "language_info": {
   "codemirror_mode": {
    "name": "ipython",
    "version": 3
   },
   "file_extension": ".py",
   "mimetype": "text/x-python",
   "name": "python",
   "nbconvert_exporter": "python",
   "pygments_lexer": "ipython3",
   "version": "3.11.9"
  }
 },
 "nbformat": 4,
 "nbformat_minor": 2
}
